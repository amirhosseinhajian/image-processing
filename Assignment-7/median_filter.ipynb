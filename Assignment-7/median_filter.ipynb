{
 "cells": [
  {
   "attachments": {},
   "cell_type": "markdown",
   "metadata": {},
   "source": [
    "Import libraries and images"
   ]
  },
  {
   "cell_type": "code",
   "execution_count": 2,
   "metadata": {},
   "outputs": [],
   "source": [
    "import cv2\n",
    "\n",
    "images = [{\"src\": \"./inputs/chest.png\", \"ksize\":1}, \n",
    "          {\"src\":\"./inputs/board.png\", \"ksize\":3},\n",
    "          {\"src\": \"./inputs/image_noisy.png\", \"ksize\":3},\n",
    "          {\"src\":\"./inputs/love.png\", \"ksize\":5},\n",
    "          {\"src\":\"./inputs/lady.png\", \"ksize\":7},\n",
    "          {\"src\": \"./inputs/char.png\", \"ksize\":7}]\n",
    "\n",
    "for i, img in enumerate(images):\n",
    "    result = cv2.imread(img['src'])\n",
    "    result = cv2.medianBlur(result, img[\"ksize\"])\n",
    "    result = cv2.medianBlur(result, 3)\n",
    "    cv2.imwrite(f\"./outputs/{i}.jpg\", result)"
   ]
  }
 ],
 "metadata": {
  "kernelspec": {
   "display_name": "Python 3",
   "language": "python",
   "name": "python3"
  },
  "language_info": {
   "codemirror_mode": {
    "name": "ipython",
    "version": 3
   },
   "file_extension": ".py",
   "mimetype": "text/x-python",
   "name": "python",
   "nbconvert_exporter": "python",
   "pygments_lexer": "ipython3",
   "version": "3.9.6"
  },
  "orig_nbformat": 4
 },
 "nbformat": 4,
 "nbformat_minor": 2
}
